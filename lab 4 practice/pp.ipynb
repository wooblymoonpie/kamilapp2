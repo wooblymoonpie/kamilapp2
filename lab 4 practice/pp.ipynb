{
 "cells": [
  {
   "cell_type": "code",
   "execution_count": 17,
   "id": "b503a88f",
   "metadata": {},
   "outputs": [
    {
     "name": "stdout",
     "output_type": "stream",
     "text": [
      "Current Date: 2025-06-11 11:45:44.557937\n",
      "Five Days Ago: 2025-06-06 11:45:44.557937\n"
     ]
    }
   ],
   "source": [
    "# Python Date:\n",
    "\n",
    "from datetime import datetime, timedelta\n",
    "\n",
    "current_date = datetime.now()\n",
    "five_days_ago = current_date - timedelta(days=5)\n",
    "\n",
    "print(\"Current Date:\", current_date)\n",
    "print(\"Five Days Ago:\", five_days_ago)\n"
   ]
  },
  {
   "cell_type": "code",
   "execution_count": 18,
   "id": "41f6303b",
   "metadata": {},
   "outputs": [
    {
     "name": "stdout",
     "output_type": "stream",
     "text": [
      "Yesterday: 2025-06-10\n",
      "Today: 2025-06-11\n",
      "Tomorrow: 2025-06-12\n"
     ]
    }
   ],
   "source": [
    "from datetime import datetime, timedelta\n",
    "\n",
    "today = datetime.now().date()\n",
    "yesterday = today - timedelta(days=1)\n",
    "tomorrow = today + timedelta(days=1)\n",
    "\n",
    "print(\"Yesterday:\", yesterday)\n",
    "print(\"Today:\", today)\n",
    "print(\"Tomorrow:\", tomorrow)\n"
   ]
  },
  {
   "cell_type": "code",
   "execution_count": 19,
   "id": "9f020721",
   "metadata": {},
   "outputs": [
    {
     "name": "stdout",
     "output_type": "stream",
     "text": [
      "Original: 2025-06-11 11:45:57.503940\n",
      "Without Microseconds: 2025-06-11 11:45:57\n"
     ]
    }
   ],
   "source": [
    "from datetime import datetime\n",
    "\n",
    "now = datetime.now()\n",
    "without_microseconds = now.replace(microsecond=0)\n",
    "\n",
    "print(\"Original:\", now)\n",
    "print(\"Without Microseconds:\", without_microseconds)\n"
   ]
  },
  {
   "cell_type": "code",
   "execution_count": 20,
   "id": "ed5f7bd6",
   "metadata": {},
   "outputs": [
    {
     "name": "stdout",
     "output_type": "stream",
     "text": [
      "Difference in Seconds: 99000.0\n"
     ]
    }
   ],
   "source": [
    "from datetime import datetime\n",
    "\n",
    "# Example: Two specific datetime objects\n",
    "date1 = datetime(2025, 6, 10, 15, 0, 0)\n",
    "date2 = datetime(2025, 6, 11, 18, 30, 0)\n",
    "\n",
    "difference = date2 - date1\n",
    "seconds = difference.total_seconds()\n",
    "\n",
    "print(\"Difference in Seconds:\", seconds)\n"
   ]
  },
  {
   "cell_type": "code",
   "execution_count": 21,
   "id": "705d46bf",
   "metadata": {},
   "outputs": [
    {
     "name": "stdout",
     "output_type": "stream",
     "text": [
      "0\n",
      "1\n",
      "4\n",
      "9\n",
      "16\n",
      "25\n"
     ]
    }
   ],
   "source": [
    "# Python generators and iterators:\n",
    "\n",
    "def generate_squares(n):\n",
    "    for i in range(n + 1):\n",
    "        yield i * i\n",
    "\n",
    "# Example usage\n",
    "for square in generate_squares(5):\n",
    "    print(square)\n"
   ]
  },
  {
   "cell_type": "code",
   "execution_count": 22,
   "id": "27084772",
   "metadata": {},
   "outputs": [
    {
     "name": "stdout",
     "output_type": "stream",
     "text": [
      "0,2,4,6,8,10,12,14,16,18,20,22,24,26,28,30,32,34,36,38,40,42,44,46,48,50,52,54,56,58,60,62,64,66,68,70,72,74,76,78,80,82,84,86,88,90,92,94,96,98,100,102,104,106,108,110,112,114,116,118,120,122,124,126,128,130,132,134,136,138,140,142,144,146,148,150,152,154,156,158,160,162,164,166,168,170,172,174,176,178,180,182,184,186,188,190,192,194,196,198,200,202,204,206,208,210,212,214,216,218,220,222,224,226,228,230,232,234,236,238,240,242,244,246,248,250,252,254,256,258,260,262,264,266,268,270,272,274,276,278,280,282,284,286,288,290,292,294,296,298,300,302,304,306,308,310,312,314,316,318,320,322,324,326,328,330,332,334,336,338,340,342,344,346,348,350,352,354,356,358,360,362,364,366,368,370,372,374,376,378,380,382,384,386,388,390,392,394,396,398,400,402,404,406,408,410,412,414,416,418,420,422,424,426,428,430,432,434,436,438,440,442,444,446,448,450,452,454,456,458,460,462,464,466,468,470,472,474,476,478,480,482,484,486,488,490,492,494,496,498,500,502,504,506,508,510,512,514,516,518,520,522,524,526,528,530,532,534,536,538,540,542,544,546,548,550,552,554,556,558,560,562,564,566,568,570,572,574,576,578,580,582,584,586,588,590,592,594,596,598,600,602,604,606,608,610,612,614,616,618,620,622,624,626,628,630,632,634,636,638,640,642,644,646,648,650,652,654,656,658,660,662,664,666,668,670,672,674,676,678,680,682,684,686,688,690,692,694,696,698,700\n"
     ]
    }
   ],
   "source": [
    "def even_numbers(n):\n",
    "    for i in range(0, n + 1):\n",
    "        if i % 2 == 0:\n",
    "            yield i\n",
    "\n",
    "n = int(input(\"Enter a number: \"))\n",
    "print(\",\".join(str(num) for num in even_numbers(n)))\n"
   ]
  },
  {
   "cell_type": "code",
   "execution_count": 23,
   "id": "1ef91b52",
   "metadata": {},
   "outputs": [
    {
     "name": "stdout",
     "output_type": "stream",
     "text": [
      "0\n",
      "12\n",
      "24\n",
      "36\n",
      "48\n",
      "60\n",
      "72\n",
      "84\n",
      "96\n",
      "108\n",
      "120\n",
      "132\n",
      "144\n",
      "156\n",
      "168\n",
      "180\n",
      "192\n",
      "204\n",
      "216\n",
      "228\n",
      "240\n",
      "252\n",
      "264\n",
      "276\n",
      "288\n",
      "300\n",
      "312\n",
      "324\n",
      "336\n",
      "348\n",
      "360\n",
      "372\n",
      "384\n",
      "396\n",
      "408\n",
      "420\n",
      "432\n",
      "444\n",
      "456\n",
      "468\n",
      "480\n",
      "492\n",
      "504\n",
      "516\n",
      "528\n",
      "540\n",
      "552\n",
      "564\n",
      "576\n",
      "588\n",
      "600\n",
      "612\n",
      "624\n",
      "636\n",
      "648\n",
      "660\n",
      "672\n",
      "684\n",
      "696\n"
     ]
    }
   ],
   "source": [
    "def divisible_by_3_and_4(n):\n",
    "    for i in range(n + 1):\n",
    "        if i % 3 == 0 and i % 4 == 0:\n",
    "            yield i\n",
    "\n",
    "# Example usage:\n",
    "n = int(input(\"Enter a number: \"))\n",
    "for num in divisible_by_3_and_4(n):\n",
    "    print(num)\n"
   ]
  },
  {
   "cell_type": "code",
   "execution_count": 11,
   "id": "269cc8d6",
   "metadata": {},
   "outputs": [
    {
     "name": "stdout",
     "output_type": "stream",
     "text": [
      "9\n",
      "16\n",
      "25\n",
      "36\n",
      "49\n"
     ]
    }
   ],
   "source": [
    "def squares(a, b):\n",
    "    for i in range(a, b + 1):\n",
    "        yield i * i\n",
    "\n",
    "# Test it with a loop\n",
    "for value in squares(3, 7):\n",
    "    print(value)\n"
   ]
  },
  {
   "cell_type": "code",
   "execution_count": 24,
   "id": "c723ac7f",
   "metadata": {},
   "outputs": [
    {
     "name": "stdout",
     "output_type": "stream",
     "text": [
      "5\n",
      "4\n",
      "3\n",
      "2\n",
      "1\n",
      "0\n"
     ]
    }
   ],
   "source": [
    "def countdown(n):\n",
    "    while n >= 0:\n",
    "        yield n\n",
    "        n -= 1\n",
    "\n",
    "# Example usage:\n",
    "for num in countdown(5):\n",
    "    print(num)\n"
   ]
  },
  {
   "cell_type": "code",
   "execution_count": 13,
   "id": "7fe4f548",
   "metadata": {},
   "outputs": [
    {
     "name": "stdout",
     "output_type": "stream",
     "text": [
      "Input degree: 15\n",
      "Output radian: 0.261799\n"
     ]
    }
   ],
   "source": [
    "# Python Math Library:\n",
    "\n",
    "import math\n",
    "\n",
    "degree = 15\n",
    "radian = math.radians(degree)\n",
    "\n",
    "print(\"Input degree:\", degree)\n",
    "print(\"Output radian:\", round(radian, 6))\n"
   ]
  },
  {
   "cell_type": "code",
   "execution_count": 14,
   "id": "44c3f3ef",
   "metadata": {},
   "outputs": [
    {
     "name": "stdout",
     "output_type": "stream",
     "text": [
      "Expected Output: 27.5\n"
     ]
    }
   ],
   "source": [
    "height = 5\n",
    "base1 = 5\n",
    "base2 = 6\n",
    "\n",
    "area = 0.5 * (base1 + base2) * height\n",
    "print(\"Expected Output:\", area)\n"
   ]
  },
  {
   "cell_type": "code",
   "execution_count": 15,
   "id": "ed9bda43",
   "metadata": {},
   "outputs": [
    {
     "name": "stdout",
     "output_type": "stream",
     "text": [
      "The area of the polygon is: 625.0\n"
     ]
    }
   ],
   "source": [
    "import math\n",
    "\n",
    "num_sides = 4\n",
    "side_length = 25\n",
    "\n",
    "area = (num_sides * side_length ** 2) / (4 * math.tan(math.pi / num_sides))\n",
    "print(\"The area of the polygon is:\", round(area, 2))\n"
   ]
  },
  {
   "cell_type": "code",
   "execution_count": 16,
   "id": "207a6ec9",
   "metadata": {},
   "outputs": [
    {
     "name": "stdout",
     "output_type": "stream",
     "text": [
      "Expected Output: 30.0\n"
     ]
    }
   ],
   "source": [
    "base = 5\n",
    "height = 6\n",
    "\n",
    "area = base * height\n",
    "print(\"Expected Output:\", float(area))\n"
   ]
  }
 ],
 "metadata": {
  "kernelspec": {
   "display_name": "Python 3",
   "language": "python",
   "name": "python3"
  },
  "language_info": {
   "codemirror_mode": {
    "name": "ipython",
    "version": 3
   },
   "file_extension": ".py",
   "mimetype": "text/x-python",
   "name": "python",
   "nbconvert_exporter": "python",
   "pygments_lexer": "ipython3",
   "version": "3.13.3"
  }
 },
 "nbformat": 4,
 "nbformat_minor": 5
}
